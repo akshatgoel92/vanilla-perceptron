{
 "cells": [
  {
   "cell_type": "code",
   "execution_count": 1,
   "metadata": {},
   "outputs": [],
   "source": [
    "# Import packages\n",
    "import numpy\n",
    "import matplotlib.pyplot as plt"
   ]
  },
  {
   "cell_type": "code",
   "execution_count": 1,
   "metadata": {},
   "outputs": [],
   "source": [
    "def perceptron(X, y):\n",
    "    '''\n",
    "    --------------------\n",
    "    Perceptron algorithm\n",
    "    --------------------\n",
    "    Parameters: \n",
    "    X: Numpy array of training features (shape = 784 X n)\n",
    "    y: Binary (1/0) training label (shape = n X 1)\n",
    "    --------------------\n",
    "    Output: \n",
    "    \n",
    "    w: trained weights\n",
    "    y_hat: predictions\n",
    "    --------------------\n",
    "    '''\n",
    "    # Flag for whether errors still exist\n",
    "    error = True\n",
    "    \n",
    "    # Initialize weights and biases\n",
    "    w = np.zeros(X.shape[0])\n",
    "    b = 0\n",
    "    \n",
    "    # Keep running as long as there there is still a misclassification\n",
    "    while error: \n",
    "        \n",
    "        # For each example in the data-set\n",
    "        for x_i, y_i in zip(X, Y): \n",
    "            \n",
    "            # Assume it is classified correctly and \n",
    "            # compute the prediction with the current weights\n",
    "            e = False\n",
    "            y_hat = astype.int(np.dot(w.T, x_i) > 0)\n",
    "            \n",
    "            # Check if the prediction is correct against the labels\n",
    "            # If it is correct we don't need to make any updates: we just move to the next iteration\n",
    "            # If it is not correct then we do the following: \n",
    "            # 1) Update the error flag to show there is still a misclassification \n",
    "            # 2) Update the weights and biases in the direction of the label\n",
    "            # Check these updates\n",
    "            if y_hat != y_i:\n",
    "                error = True\n",
    "                w -= x\n",
    "                b -= 1\n",
    "    \n",
    "    return(w)"
   ]
  }
 ],
 "metadata": {
  "kernelspec": {
   "display_name": "Python 3",
   "language": "python",
   "name": "python3"
  },
  "language_info": {
   "codemirror_mode": {
    "name": "ipython",
    "version": 3
   },
   "file_extension": ".py",
   "mimetype": "text/x-python",
   "name": "python",
   "nbconvert_exporter": "python",
   "pygments_lexer": "ipython3",
   "version": "3.6.8"
  }
 },
 "nbformat": 4,
 "nbformat_minor": 2
}
