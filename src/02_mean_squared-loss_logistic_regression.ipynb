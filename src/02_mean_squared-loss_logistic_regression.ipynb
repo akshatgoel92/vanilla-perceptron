{
 "cells": [
  {
   "cell_type": "markdown",
   "metadata": {},
   "source": [
    "# Task 3.2 : Mean squared-loss logistic regression"
   ]
  },
  {
   "cell_type": "markdown",
   "metadata": {},
   "source": [
    "In our lectures we have covered using the log-likelihood loss function for logistic regression, but it is of course possible to use a wide range of loss functions. Consider for example the mean squared loss below which is common for regression tasks, but can also be applied for binary classification:"
   ]
  },
  {
   "cell_type": "markdown",
   "metadata": {},
   "source": [
    "\\begin{equation*}\n",
    "\\mathscr{L} = \\frac{1}{n} \\sum_{i=1}^n \\frac{(y_i-\\hat{y}_i)^2}{2}\n",
    "\\end{equation*}"
   ]
  },
  {
   "cell_type": "code",
   "execution_count": 233,
   "metadata": {},
   "outputs": [],
   "source": [
    "#Importing libraries\n",
    "import numpy as np\n",
    "from matplotlib import pyplot as plt\n",
    "from dataclasses import dataclass\n",
    "from helpers import load_all_data, vectorized_flatten, sigmoid, get_mse_loss, get_accuracy, sigmoid_derivative, gradient_update, get_loss_plot, plot_loss"
   ]
  },
  {
   "cell_type": "code",
   "execution_count": 234,
   "metadata": {},
   "outputs": [],
   "source": [
    "def prep_data(data_path):\n",
    "    \"\"\"\n",
    "    Prepare data\n",
    "    Use vectorized flatten\n",
    "    --------------------\n",
    "    return: train, validation, and test splits\n",
    "    --------------------\n",
    "    \"\"\"\n",
    "    # Load\n",
    "    x_train, y_train, x_dev, y_dev, x_test, y_test = load_all_data(data_path)\n",
    "    \n",
    "    # Flatten\n",
    "    x_train_flattened = vectorized_flatten(x_train)\n",
    "    x_dev_flattened = vectorized_flatten(x_dev)\n",
    "    x_test_flattened = vectorized_flatten(x_test)\n",
    "    \n",
    "    # Reshape labels\n",
    "    y_train = y_train.reshape(1, -1)\n",
    "    y_dev = y_dev.reshape(1, -1)\n",
    "    y_test = y_test.reshape(1, -1)\n",
    "    \n",
    "    # Return\n",
    "    return(x_train_flattened, x_dev_flattened, x_test_flattened, y_train, y_dev, y_test)"
   ]
  },
  {
   "cell_type": "code",
   "execution_count": 235,
   "metadata": {},
   "outputs": [],
   "source": [
    "data_path = '../setup/data'\n",
    "x_train_flattened, x_dev_flattened, x_test_flattened, y_train, y_dev, y_test = prep_data(data_path)"
   ]
  },
  {
   "cell_type": "code",
   "execution_count": 236,
   "metadata": {},
   "outputs": [],
   "source": [
    "def predict(w: np.array, x: np.array, b: float) -> np.array:\n",
    "        \"\"\"\n",
    "        Calculate the output predictions of sigmoid function:\n",
    "        --------------------\n",
    "        w: weights, of shape (1, 784)\n",
    "        x: input data, of shape (784, n=12000)\n",
    "        b: bias\n",
    "        --------------------\n",
    "        return: the predictions\n",
    "        \"\"\"\n",
    "        \n",
    "        activation_function_input = w@x + b\n",
    "        \n",
    "        return sigmoid(activation_function_input)"
   ]
  },
  {
   "cell_type": "code",
   "execution_count": 237,
   "metadata": {},
   "outputs": [],
   "source": [
    "def gradient(x: np.array, y:np.array, w: np.array, b: float)-> (np.array, np.array):\n",
    "        \"\"\"\n",
    "        Calculate the gradients: dw and db by using the answers from 1\n",
    "        --------------------\n",
    "        x: input data, of shape (784, n=12000)\n",
    "        y: true label vector, of shape (1, n)\n",
    "        --------------------\n",
    "        return: derivatives of loss function: L with respect to weight: w and bias: b\n",
    "        \"\"\"\n",
    "        # obtain number of samples\n",
    "        n = max(y.shape)\n",
    "        \n",
    "        # predictions on entire data\n",
    "        preds = predict(w, x, b)\n",
    "        \n",
    "        # derivative of loss function w.r.t. sigmoid function expressed as 'a'\n",
    "        da = preds - y\n",
    "        \n",
    "        # derivative of loss function w.r.t. z (= w^Tx+b)\n",
    "        dz = da * preds * (1 - preds)\n",
    "        \n",
    "        # derivative of loss function w.r.t. w\n",
    "        dw = np.dot(dz, x.T)/n\n",
    "        \n",
    "        # derivative of loss function w.r.t. b\n",
    "        db = np.sum(dz)/n\n",
    "        \n",
    "        return (dw, db)"
   ]
  },
  {
   "cell_type": "code",
   "execution_count": 238,
   "metadata": {},
   "outputs": [],
   "source": [
    "def mean_squared_loss(y: np.array, y_pred: np.array) -> np.array:\n",
    "        \"\"\"\n",
    "        Calculate the mean squared error.\n",
    "        --------------------\n",
    "        y: true label vector, of shape (1, n)\n",
    "        y_pred: predicted label vector, of shape (1, n)\n",
    "        --------------------\n",
    "        return: mean squared loss\n",
    "        \"\"\"\n",
    "        n = max(y.shape)\n",
    "        return (y-y_pred)**2/(2*n)"
   ]
  },
  {
   "cell_type": "code",
   "execution_count": 239,
   "metadata": {},
   "outputs": [],
   "source": [
    " def finite_differences(x: np.array, y: np.array, w: np.array, b: float, epsilon=1e-5) -> (float, float):\n",
    "        # obtain number of samples\n",
    "        n = max(y.shape)\n",
    "        \n",
    "        # derive the loss function w.r.t. w and b respectively using the helper function 'gradient'\n",
    "        dw, db = gradient(x, y, w, b)\n",
    "        \n",
    "        # add and subtract epsilon/2 from weights\n",
    "        w_plus = np.copy(w) \n",
    "        w_minus = np.copy(w)\n",
    "        \n",
    "        w_plus += epsilon/2\n",
    "        w_minus -= epsilon/2\n",
    "        \n",
    "        # predictions with w_plus and w_minus\n",
    "        preds_w_plus = predict(w_plus, x, b)\n",
    "        preds_w_minus = predict(w_minus, x, b)\n",
    "        \n",
    "        # calculate MSE using the helper function 'mean_squared_loss'\n",
    "        loss_w_plus = mean_squared_loss(y, preds_w_plus)\n",
    "        loss_w_minus =  mean_squared_loss(y, preds_w_minus)\n",
    "        \n",
    "        # calculate the right hand side of the finite difference equation\n",
    "        fd_dw = (loss_w_plus - loss_w_minus)/(epsilon)\n",
    "        \n",
    "        # subtract the right hand side of the finite difference equation from the left\n",
    "        difference_w = np.sum(dw) - np.sum(fd_dw)\n",
    "        \n",
    "        \n",
    "        # add and subtract epsilon/2 from bias\n",
    "        b_plus = b\n",
    "        b_minus = b\n",
    "        \n",
    "        b_plus += epsilon/2\n",
    "        b_minus -= epsilon/2\n",
    "        \n",
    "        # predictions with b_plus and b_minus\n",
    "        preds_b_plus = predict(w, x, b_plus)\n",
    "        preds_b_minus = predict(w, x, b_minus)\n",
    "    \n",
    "        # calculate MSE using the helper function 'mean_squared_loss'\n",
    "        loss_b_plus = mean_squared_loss(y, preds_b_plus)\n",
    "        loss_b_minus = mean_squared_loss(y, preds_b_minus)\n",
    "        \n",
    "        # calculate the right hand side of the finite difference equation\n",
    "        fd_db = (loss_b_plus - loss_b_minus)/(epsilon)\n",
    "        \n",
    "        # subtract the right hand side of the finite difference equation from the left\n",
    "        difference_b = np.sum(db) - np.sum(fd_db)\n",
    "        \n",
    "        return (difference_w, difference_b)"
   ]
  },
  {
   "cell_type": "code",
   "execution_count": 240,
   "metadata": {},
   "outputs": [
    {
     "name": "stdout",
     "output_type": "stream",
     "text": [
      "-0.000001655362933\n",
      "-0.000000000001016\n"
     ]
    }
   ],
   "source": [
    "a,b=finite_differences(x_train_flattened, y_train, np.zeros((x_train_flattened.shape[0], )), 0)\n",
    "print(\"{:.15f}\".format(float(a)))\n",
    "print(\"{:.15f}\".format(float(b)))"
   ]
  },
  {
   "cell_type": "code",
   "execution_count": 241,
   "metadata": {},
   "outputs": [
    {
     "name": "stdout",
     "output_type": "stream",
     "text": [
      "(-1.6553629329507658e-06, -1.0164395367051604e-12)\n"
     ]
    },
    {
     "data": {
      "image/png": "[encoded data removed]",
      "text/plain": [
       "<Figure size 432x288 with 1 Axes>"
      ]
     },
     "metadata": {
      "needs_background": "light"
     },
     "output_type": "display_data"
    },
    {
     "data": {
      "image/png": "[encoded data removed]",
      "text/plain": [
       "<Figure size 432x288 with 1 Axes>"
      ]
     },
     "metadata": {
      "needs_background": "light"
     },
     "output_type": "display_data"
    },
    {
     "data": {
      "image/png": "[encoded data removed]",
      "text/plain": [
       "<Figure size 432x288 with 1 Axes>"
      ]
     },
     "metadata": {
      "needs_background": "light"
     },
     "output_type": "display_data"
    },
    {
     "name": "stdout",
     "output_type": "stream",
     "text": [
      "Training accuracy on epoch 314 = 0.9539166666666666\n",
      "Validation accuracy on epoch 314 = 0.961\n"
     ]
    }
   ],
   "source": [
    "import numpy as np\n",
    "from matplotlib import pyplot as plt\n",
    "\n",
    "# @dataclass\n",
    "class LogisticRegression:\n",
    "    w: np.array\n",
    "    b: float\n",
    "    learning_rate: float\n",
    "    n_epochs: int\n",
    "    \n",
    "    def __init__(self, weight, bias, learning_rate, n_epochs):\n",
    "        self.w = weight\n",
    "        self.b = bias\n",
    "        self.learning_rate = learning_rate\n",
    "        self.n_epochs = n_epochs\n",
    "    \n",
    "    def activation_function_input(self, w: np.array, x: np.array) -> np.array:\n",
    "        \"\"\"\n",
    "        Calculate the input of activation function.\n",
    "        --------------------\n",
    "        w: current weight, of shape (1, 784)\n",
    "        x: input data, of shape (784, n=12000)\n",
    "        --------------------\n",
    "        return: the output prediction\n",
    "        \"\"\"\n",
    "        \n",
    "        return w@x + self.b\n",
    "    \n",
    "    def predict(self, x) -> np.array:\n",
    "        \"\"\"\n",
    "        Calculate the output prediction.\n",
    "        --------------------\n",
    "        x: input data, of shape (784, n=12000)\n",
    "        --------------------\n",
    "        return: the output prediction\n",
    "        \"\"\"\n",
    "        \n",
    "        activation_function_input = self.activation_function_input(self.w, x)\n",
    "        \n",
    "        return sigmoid(activation_function_input)\n",
    "    \n",
    "    def gradient(self, x, y)-> (np.array, np.array):\n",
    "        \"\"\"\n",
    "        Calculate the gradients: dw and db\n",
    "        --------------------\n",
    "        x: input data, of shape (784, n=12000)\n",
    "        y: true label vector, of shape (1, n)\n",
    "        --------------------\n",
    "        return: derivatives of loss function: L with respect to weight: w and bias: b\n",
    "        \"\"\"\n",
    "        n = max(y.shape)\n",
    "        \n",
    "        p = self.predict(x)\n",
    "        \n",
    "        dy_hat = p-y\n",
    "        dz = dy_hat*p*(1-p)\n",
    "        \n",
    "        dw = np.dot(dz, x.T)/n\n",
    "        db = np.sum(dz)/n\n",
    "        \n",
    "        return (dw, db)\n",
    "    \n",
    "    def mean_squared_loss(self, y, y_pred) -> np.array:\n",
    "        \"\"\"\n",
    "        Calculate the mean squared error.\n",
    "        --------------------\n",
    "        y: true label vector, of shape (1, n)\n",
    "        y_pred: predicted label vector, of shape (1, n)\n",
    "        --------------------\n",
    "        return: mean squared loss\n",
    "        \"\"\"\n",
    "        n = max(y.shape)\n",
    "        return (y-y_pred)**2/(2*n)\n",
    "    \n",
    "    def finite_differences(self, x, y, delta_h=1e-5):\n",
    "        \"\"\"\n",
    "        Calculate the finite difference.\n",
    "        --------------------\n",
    "        gradients: Current set of gradients\n",
    "        learning_rate: parameter to guide SGD step size\n",
    "        --------------------\n",
    "        return: finite difference\n",
    "        \"\"\"\n",
    "        \n",
    "        n = max(y.shape)\n",
    "        \n",
    "        dw = self.gradient(x, y)[0]\n",
    "        db = self.gradient(x, y)[1]\n",
    "        \n",
    "        w_plus = np.copy(self.w)\n",
    "        w_minus = np.copy(self.w) \n",
    "        \n",
    "        b_plus = self.b\n",
    "        b_minus = self.b\n",
    "        \n",
    "        w_plus += delta_h/2\n",
    "        w_minus -= delta_h/2\n",
    "        \n",
    "        b_plus += delta_h/2\n",
    "        b_minus -= delta_h/2\n",
    "        \n",
    "        y_hat_plus_w = sigmoid(w_plus @ x + self.b)\n",
    "        y_hat_minus_w = sigmoid(w_minus @ x + self.b)\n",
    "        \n",
    "        y_hat_plus_b = sigmoid(self.w @ x + b_plus)\n",
    "        y_hat_minus_b = sigmoid(self.w @ x + b_minus)\n",
    "    \n",
    "        \n",
    "        loss_plus_w = self.mean_squared_loss(y, y_hat_plus_w)\n",
    "        loss_minus_w =  self.mean_squared_loss(y, y_hat_minus_w)\n",
    "        \n",
    "        loss_plus_b = self.mean_squared_loss(y, y_hat_plus_b)\n",
    "        loss_minus_b =  self.mean_squared_loss(y, y_hat_minus_b)\n",
    "        \n",
    "        fd_dw = (loss_plus_w - loss_minus_w)/(delta_h)\n",
    "        fd_db = (loss_plus_b - loss_minus_b)/(delta_h)\n",
    "        \n",
    "        difference_w = np.sum(dw) - np.sum(fd_dw)\n",
    "        difference_b = np.sum(db) - np.sum(fd_db)\n",
    "        \n",
    "        return (difference_w, difference_b)\n",
    "    \n",
    "    def train(self, x, y, x_dev, y_dev, bound):\n",
    "        # count the number of validation loss increments\n",
    "        counter = 0\n",
    "        \n",
    "        losses = []\n",
    "        training_accuracies = []\n",
    "        validation_accuracies = []\n",
    "        \n",
    "        for i in range(self.n_epochs):\n",
    "            y_hat = self.predict(x)\n",
    "#             print(y_hat)\n",
    "            dw, db = self.gradient(x, y)\n",
    "            self.w = gradient_update(self.w, self.learning_rate, dw)\n",
    "            self.b = gradient_update(self.b, self.learning_rate, db)\n",
    "            \n",
    "            training_loss = np.sum(self.mean_squared_loss(y, y_hat))\n",
    "            losses.append(training_loss)\n",
    "            \n",
    "            training_accuracy = self.accuracy(y, np.where(y_hat >= 0.5, 1.0, 0.0))\n",
    "            training_accuracies.append(training_accuracy)\n",
    "            \n",
    "            y_dev_hat = self.predict(x_dev)\n",
    "            \n",
    "            validation_accuracy = self.accuracy(y_dev, np.where(y_dev_hat >= 0.5, 1.0, 0.0))\n",
    "            validation_accuracies.append(validation_accuracy)\n",
    "            \n",
    "            validation_loss = np.sum(self.mean_squared_loss(y_dev, y_dev_hat))\n",
    "            \n",
    "            if i > 0 and validation_loss > prev_validation_loss:\n",
    "                counter += 1\n",
    "            \n",
    "            if counter == bound:\n",
    "                print(\"reached bound\")\n",
    "                break\n",
    "            \n",
    "            prev_validation_loss = validation_loss\n",
    "        \n",
    "#         plot_loss(\"loss.png\", losses)\n",
    "#         print(accuracies)\n",
    "#         plot_loss(\"accuracy.png\", accuracies, label='Training Accuracy')\n",
    "        return (losses, training_accuracies, validation_accuracies)\n",
    "    \n",
    "    def accuracy(self, y, y_hat):\n",
    "        n = max(y_hat.shape)\n",
    "        correct = np.sum(np.where(y == y_hat, 1.0, 0.0))\n",
    "#         correct = np.sum(y_hat >= 0.5)\n",
    "        return correct/n\n",
    "    \n",
    "    def plot(self, y_values, xlabel, ylabel, title):\n",
    "        epochs = range(1, self.n_epochs+1)\n",
    "\n",
    "        plt.figure()\n",
    "        plt.plot(epochs, y_values, linestyle='--')\n",
    "        plt.xlabel(xlabel)\n",
    "        plt.ylabel(ylabel)\n",
    "        plt.title(title)\n",
    "        plt.show()\n",
    "\n",
    "p = LogisticRegression(np.zeros((x_train_flattened.shape[0], )), 0, 0.1, 500)\n",
    "print(p.finite_differences(x_train_flattened, y_train))\n",
    "losses, training_accuracies, validation_accuracies = p.train(x_train_flattened, y_train, x_dev_flattened, y_dev, 5)\n",
    "p.plot(losses, 'Epoch', 'Training Loss', 'Training Loss over Epoch')\n",
    "p.plot(training_accuracies, 'Epoch', 'Training Accuracy', 'Training Accuracy over Epoch')\n",
    "p.plot(validation_accuracies, 'Epoch', 'Validation Accuracy', 'Validation Accuracy over Epoch')\n",
    "\n",
    "# training_epoch = np.argmax(training_accuracies)\n",
    "validation_epoch = np.argmax(validation_accuracies)\n",
    "print(\"Training accuracy on epoch {} = {}\".format(validation_epoch+1, training_accuracies[validation_epoch]))\n",
    "print(\"Validation accuracy on epoch {} = {}\".format(validation_epoch+1, validation_accuracies[validation_epoch]))"
   ]
  }
 ],
 "metadata": {
  "kernelspec": {
   "display_name": "Python 3",
   "language": "python",
   "name": "python3"
  },
  "language_info": {
   "codemirror_mode": {
    "name": "ipython",
    "version": 3
   },
   "file_extension": ".py",
   "mimetype": "text/x-python",
   "name": "python",
   "nbconvert_exporter": "python",
   "pygments_lexer": "ipython3",
   "version": "3.7.4"
  }
 },
 "nbformat": 4,
 "nbformat_minor": 2
}
