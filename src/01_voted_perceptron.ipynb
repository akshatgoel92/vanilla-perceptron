{
 "cells": [
  {
   "cell_type": "markdown",
   "metadata": {},
   "source": [
    "# Task 3.1 : A Memory Efficient Voted Perceptron"
   ]
  },
  {
   "cell_type": "markdown",
   "metadata": {},
   "source": [
    "Freund & Schapire (1999) introduced the voted-perceptron algorithm, which scales\n",
    "the contribution to its weight vectors by a factor depending on how many correct classifications it\n",
    "has taken part in during training. They also demonstrated that despite its simplicity, the algorithm\n",
    "can be competitive with significantly more involved algorithms such as the support vector machine.\n",
    "However, a major drawback is that it has a memory complexity of O(k), where k is the number of\n",
    "times a sample is misclassified during training."
   ]
  },
  {
   "cell_type": "markdown",
   "metadata": {},
   "source": [
    "**Data:** $ \\mathcal{D} := \\{ (\\mathbf{x_1}, y_1),...,(\\mathbf{x_n}, y_n) \\} $<br>\n",
    "**Result:** $\\upsilon := \\{(\\mathbf{w_1}, c_1 ), . . . , (\\mathbf{w_k}, c_k)\\}$<br>\n",
    "$\\mathbf{w_1} := 0^d;$<br>\n",
    "$c_1 := 1;$<br>\n",
    "$k := 1;$<br>\n",
    "**while** *not converged* **do**<br>\n",
    "    $\\hspace{0.5cm}$ **for** $i := 1,..,n$ **do**<br>\n",
    "    $ \\hspace{1.0cm} \\hat{y} = \n",
    "        \\begin{cases}\n",
    "        1 & \\mathbf{w_k} \\cdot \\mathbf{x_i} \\geq 0  \\\\\n",
    "        0 & \\text{otherwise}\n",
    "        \\end{cases}$<br>\n",
    "        $\\hspace{1.0cm}$ **if** $\\hat{y} = y$ **then**<br>\n",
    "            $\\hspace{1.5cm} c_k := c_k + 1;$<br>\n",
    "        $\\hspace{1.0cm}$**else**<br>\n",
    "            $\\hspace{1.5cm}\\mathbf{w_{k+1}} := \\mathbf{w_k} + (y - \\hat{y})\\mathbf{x_i};$<br>\n",
    "            $\\hspace{1.5cm}c_{k+1} := 1;$<br>\n",
    "            $\\hspace{1.5cm}k := k + 1;$<br>\n",
    "        $\\hspace{1.0cm}$**end**<br>\n",
    "    $\\hspace{0.5cm}$**end**<br>\n",
    "**end**\n",
    "\n",
    "**Algorithm 1:** The voted-perceptron training algorithm with bias terms omitted."
   ]
  },
  {
   "cell_type": "markdown",
   "metadata": {},
   "source": [
    "Once trained, the algorithm performs predictions as follows:\n",
    "\n",
    ">$$ f(\\mathbf{x}) = \n",
    "\\begin{cases}\n",
    "1 &  [\\sum_{i:=1}^k c_i(\\mathbf{w_i} . \\mathbf{x})] \\geq 0 \\\\\n",
    "0 & \\text{otherwise}\n",
    "\\end{cases}$$"
   ]
  },
  {
   "cell_type": "code",
   "execution_count": 2,
   "metadata": {},
   "outputs": [
    {
     "name": "stdout",
     "output_type": "stream",
     "text": [
      "comp0090_assignment_1_data/\n",
      "comp0090_assignment_1_data/fashion-test-imgs.npz\n",
      "comp0090_assignment_1_data/fashion-train-imgs.npz\n",
      "comp0090_assignment_1_data/fashion-dev-labels.npz\n",
      "comp0090_assignment_1_data/fashion-train-labels.npz\n",
      "comp0090_assignment_1_data/fashion-dev-imgs.npz\n",
      "comp0090_assignment_1_data/fashion-test-labels.npz\n"
     ]
    }
   ],
   "source": [
    "#Extract dataset\n",
    "!bash setup/download.sh"
   ]
  },
  {
   "cell_type": "markdown",
   "metadata": {},
   "source": [
    "## Importing Libraries"
   ]
  },
  {
   "cell_type": "code",
   "execution_count": 1,
   "metadata": {},
   "outputs": [],
   "source": [
    "#Importing libraries\n",
    "import numpy as np\n",
    "from matplotlib import pyplot as plt\n",
    "from src import helpers"
   ]
  },
  {
   "cell_type": "markdown",
   "metadata": {},
   "source": [
    "## Tasks: "
   ]
  },
  {
   "cell_type": "markdown",
   "metadata": {},
   "source": [
    "1. Derive a variant of the voted perceptron with memory complexity O(1) – informally, that the memory usage remains constant regardless of the number of updates."
   ]
  },
  {
   "cell_type": "markdown",
   "metadata": {},
   "source": [
    "Our proposed variant of the voted perceptron algorithm is as follows:\n",
    "\n",
    "**Data:** $ \\mathcal{D} := \\{(\\mathbf{x_1}, y_1),...,(\\mathbf{x_n}, y_n)\\} $<br>\n",
    "**Result:** $\\upsilon := 0 $<br>\n",
    "$\\mathbf{w} := 0^d;$<br>\n",
    "$c := 1;$<br>\n",
    "**while** *not converged* **do**<br>\n",
    "    $\\hspace{0.5cm}$ **for** $i := 1,..,n$ **do**<br>\n",
    "    $ \\hspace{1.0cm} \\hat{y_i} = \n",
    "        \\begin{cases}\n",
    "        1 & \\mathbf{w} \\cdot x_i \\geq 0  \\\\\n",
    "        0 & \\text{otherwise}\n",
    "        \\end{cases}$<br>\n",
    "        $\\hspace{1.0cm}$ **if** $\\hat{y_i} = y_i$ **then**<br>\n",
    "            $\\hspace{1.5cm} c := c + 1;$<br>\n",
    "        $\\hspace{1.0cm}$**else**<br>\n",
    "            $\\hspace{1.5cm}\\upsilon = \\upsilon + c\\mathbf{w}$<br>\n",
    "            $\\hspace{1.5cm}\\mathbf{w} := \\mathbf{w} + (y_i - \\hat{y_i})\\mathbf{x_i};$<br>\n",
    "            $\\hspace{1.5cm}c := 1;$<br>\n",
    "        $\\hspace{1.0cm}$**end**<br>\n",
    "    $\\hspace{0.5cm}$**end**<br>\n",
    "**end**"
   ]
  },
  {
   "cell_type": "markdown",
   "metadata": {},
   "source": [
    "Our prediction function can now be represented as follows:\n",
    "\n",
    ">$$ f(x) = \n",
    "\\begin{cases}\n",
    "1 & \\upsilon \\cdot \\mathbf{x} \\geq 0 \\\\\n",
    "0 & \\text{otherwise}\n",
    "\\end{cases}$$"
   ]
  },
  {
   "cell_type": "markdown",
   "metadata": {},
   "source": [
    "2. Prove that your efficient variant is functionally equivalent to the voted perceptron."
   ]
  },
  {
   "cell_type": "markdown",
   "metadata": {},
   "source": []
  },
  {
   "cell_type": "markdown",
   "metadata": {},
   "source": [
    "3. Implement your efficient variant in your Colaboratory notebook."
   ]
  },
  {
   "cell_type": "code",
   "execution_count": 8,
   "metadata": {},
   "outputs": [],
   "source": [
    "def predict(images, v):\n",
    "    \"\"\"\n",
    "    Predicts classes on a set of images.\n",
    "    \n",
    "    Args\n",
    "    ----\n",
    "    images : Flattened image data. Should be NumPy array of shape (# images, # pixels)\n",
    "    v : Trained weights. Should be NumPy array of shape (# pixels, )\n",
    "    \n",
    "    Returns\n",
    "    -------\n",
    "    pred : Class predictions. Should be NumPy array of shape (#images, )\n",
    "    \"\"\"\n",
    "    \n",
    "    pred = np.where(images @ v >= 0, 1.0, 0.0)\n",
    "    return pred\n",
    "\n",
    "def accuracy(images, labels, v):\n",
    "    \"\"\"\n",
    "    Computes accuracy of trained model.\n",
    "    \n",
    "    Args\n",
    "    ----\n",
    "    images : Flattened image data. Should be NumPy array of shape (# images, # pixels)\n",
    "    labels : Labels corresponding to image data. Should be NumPy array of shape (# images, )\n",
    "    v : Trained weights. Should be NumPy array of shape (# pixels, )\n",
    "    \n",
    "    Returns\n",
    "    -------\n",
    "    accuracy : Scalar value representing accuracy of predictions.\n",
    "    \"\"\"\n",
    "    predictions = predict(images, v)\n",
    "    correct = np.sum(np.where(predictions == labels, 1.0, 0.0))\n",
    "    accuracy = correct/len(images)\n",
    "    return accuracy\n",
    "\n",
    "def vp_modified(x_train, y_train, x_val, y_val, epsilon=0.005, k=5):\n",
    "    \"\"\"\n",
    "    Implementation of modified voted perceptron algorithm with memory complexity O(1).\n",
    "    \n",
    "    Args\n",
    "    ----\n",
    "    x : Flattened image data. Should be NumPy array of shape (# images, # pixels)\n",
    "    y : Labels corresponding to image data. Should be NumPy array of shape (# images, )\n",
    "    k, epsilon : Hyperparameters for representing our convergence criteria. We define convergence as the state when we see difference in training accuracy < epsilon over k consecutive epochs.\n",
    "    \n",
    "    Returns\n",
    "    -------\n",
    "    v : NumPy array of shape (# pixels, )\n",
    "    \"\"\"\n",
    "    \n",
    "    n_data = x_train.shape[0]\n",
    "    n_dim = x_train.shape[1]\n",
    "    \n",
    "    #Initialize v, c, w\n",
    "    v = np.zeros((n_dim, ))\n",
    "    w = np.zeros((n_dim, ))\n",
    "    c = 1\n",
    "    \n",
    "    #Initialize the pre-epoch and post-epoch accuracy\n",
    "    epoch = 1\n",
    "    train_accuracy_old = accuracy(x_train, y_train, v)\n",
    "    train_accuracy_new = 100\n",
    "    \n",
    "    #This will store accuracy values after each epoch\n",
    "    train_accuracy_values = []\n",
    "    val_accuracy_values = []\n",
    "\n",
    "    #This will store the number of epochs over which accuracy difference was less than epsilon\n",
    "    k = 0\n",
    "    \n",
    "    while not (np.abs(train_accuracy_new - train_accuracy_old) < epsilon and k == 5):\n",
    "        \n",
    "        print(\"Epoch {}\".format(epoch))\n",
    "        \n",
    "        #Record accuracy pre-epoch\n",
    "        train_accuracy_old = accuracy(x_train, y_train, v)\n",
    "        \n",
    "        #print(\">> Accuracy pre-epoch = {}\".format(accuracy_train_old))\n",
    "        \n",
    "        #Iterate over training examples\n",
    "        for i in range(n_data):\n",
    "            y_hat = 1.0 if np.dot(w, x_train[i]) >= 0.0 else 0.0\n",
    "            \n",
    "            #Update c if the true class and predicted class are equal\n",
    "            if y_hat == y_train[i]:\n",
    "                c += 1\n",
    "                \n",
    "            #Perform v, w, c update if misclassified\n",
    "            else:\n",
    "                v += c*w\n",
    "                w += (y_train[i] - y_hat)*x_train[i]\n",
    "                c = 1\n",
    "        \n",
    "        #Record accuracy post-epoch\n",
    "        train_accuracy_new = accuracy(x_train, y_train, v)\n",
    "        val_accuracy = accuracy(x_val, y_val, v)\n",
    "        print(\">> Training accuracy = {}\".format(train_accuracy_new))\n",
    "        print(\">> Validation accuracy = {}\".format(val_accuracy))\n",
    "        #print(\">> Difference in accuracy = {}\".format(train_accuracy_new - train_accuracy_old))\n",
    "        \n",
    "        #Append training and validation metrics\n",
    "        train_accuracy_values.append(train_accuracy_new)\n",
    "        val_accuracy_values.append(val_accuracy)\n",
    "        \n",
    "        #Steps to perform early stopping:\n",
    "        \n",
    "        #If the difference in accuracy is lesser than epsilon and the accuracy didn't improve for 5 consecutive epochs, then just update k by 1 to reflect that the current epoch has also seen a small difference\n",
    "        if (np.abs(train_accuracy_new - train_accuracy_old) < epsilon and k < 5):\n",
    "            k += 1\n",
    "            \n",
    "        #Suppose we saw a small difference over atleast 1 (but < 5) consecutive epochs but then suddenly a large jump in accuracy occurs, then we want to reset k=0 and restart the counting.\n",
    "        #Note that if we saw a large difference and k = 0, that's just the same as going into the while loop and running another epoch again.\n",
    "        if (np.abs(train_accuracy_new - train_accuracy_old) > epsilon and k >= 1):\n",
    "            k = 0\n",
    "        \n",
    "        #print(\"k = {}\".format(k))\n",
    "        \n",
    "        epoch += 1\n",
    "    print(\"Training completed.\")\n",
    "    return v, train_accuracy_values, val_accuracy_values"
   ]
  },
  {
   "cell_type": "markdown",
   "metadata": {},
   "source": [
    "4. Train your model to convergence on the training set."
   ]
  },
  {
   "cell_type": "code",
   "execution_count": 3,
   "metadata": {},
   "outputs": [],
   "source": [
    "#Load the training data\n",
    "train_img, train_labels = helpers.get_data(\"./data/\", data_type=\"train\")\n",
    "\n",
    "#Load the validation data - we will use it in the last question\n",
    "val_img, val_labels = helpers.get_data(\"./data/\", data_type=\"dev\")"
   ]
  },
  {
   "cell_type": "code",
   "execution_count": 4,
   "metadata": {},
   "outputs": [
    {
     "name": "stdout",
     "output_type": "stream",
     "text": [
      "Number of training images : 12000\n",
      "Labels : [0 1]\n"
     ]
    },
    {
     "data": {
      "image/png": "[encoded data removed]",
      "text/plain": [
       "<Figure size 864x432 with 5 Axes>"
      ]
     },
     "metadata": {
      "needs_background": "light"
     },
     "output_type": "display_data"
    }
   ],
   "source": [
    "n = train_img.shape[-1]\n",
    "classes = ['Not Bag', 'Bag']\n",
    "\n",
    "print(\"Number of training images : {}\".format(n))\n",
    "print(\"Labels : {}\".format(np.unique(train_labels)))\n",
    "\n",
    "plt.figure(figsize=(12,6))\n",
    "#Visualizing a few images and corresponding labels\n",
    "for i in range(5):\n",
    "    plt.subplot(1, 5, i+1)\n",
    "    plt.imshow(train_img[:, :, i])\n",
    "    plt.title(\"Class = {}\".format(classes[train_labels[i]]))"
   ]
  },
  {
   "cell_type": "code",
   "execution_count": 5,
   "metadata": {},
   "outputs": [
    {
     "name": "stdout",
     "output_type": "stream",
     "text": [
      "Image Shape after flattening: (12000, 784)\n"
     ]
    }
   ],
   "source": [
    "#Flatten training images\n",
    "train_img_flat = helpers.flatten_imgs(train_img)\n",
    "print(\"Image Shape after flattening: {}\".format(train_img_flat.shape))\n",
    "\n",
    "#Flatten validation images\n",
    "val_img_flat = helpers.flatten_imgs(val_img)"
   ]
  },
  {
   "cell_type": "code",
   "execution_count": 9,
   "metadata": {},
   "outputs": [
    {
     "name": "stdout",
     "output_type": "stream",
     "text": [
      "Epoch 1\n",
      ">> Training accuracy = 0.9658333333333333\n",
      ">> Validation accuracy = 0.969\n",
      ">> Difference in accuracy = 0.4658333333333333\n",
      "Epoch 2\n",
      ">> Training accuracy = 0.9684166666666667\n",
      ">> Validation accuracy = 0.976\n",
      ">> Difference in accuracy = 0.002583333333333382\n",
      "Epoch 3\n",
      ">> Training accuracy = 0.97\n",
      ">> Validation accuracy = 0.978\n",
      ">> Difference in accuracy = 0.00158333333333327\n",
      "Epoch 4\n",
      ">> Training accuracy = 0.9714166666666667\n",
      ">> Validation accuracy = 0.977\n",
      ">> Difference in accuracy = 0.0014166666666667327\n",
      "Epoch 5\n",
      ">> Training accuracy = 0.9713333333333334\n",
      ">> Validation accuracy = 0.977\n",
      ">> Difference in accuracy = -8.333333333332416e-05\n",
      "Epoch 6\n",
      ">> Training accuracy = 0.9725\n",
      ">> Validation accuracy = 0.977\n",
      ">> Difference in accuracy = 0.0011666666666666492\n",
      "Training completed.\n"
     ]
    }
   ],
   "source": [
    "#Train model\n",
    "v, train_accuracy_values, val_accuracy_values = vp_modified(train_img_flat, train_labels, val_img_flat, val_labels)"
   ]
  },
  {
   "cell_type": "markdown",
   "metadata": {},
   "source": [
    "5. Provide a plot of the accuracy on the training set for each epoch."
   ]
  },
  {
   "cell_type": "code",
   "execution_count": 12,
   "metadata": {},
   "outputs": [
    {
     "data": {
      "image/png": "[encoded data removed]",
      "text/plain": [
       "<Figure size 432x288 with 1 Axes>"
      ]
     },
     "metadata": {
      "needs_background": "light"
     },
     "output_type": "display_data"
    }
   ],
   "source": [
    "epochs = np.arange(1, len(train_accuracy_values)+1)\n",
    "\n",
    "plt.figure()\n",
    "plt.plot(epochs, train_accuracy_values, linestyle='--', marker='o')\n",
    "#plt.plot(epochs, val_accuracy_values, linestyle='--', marker='o')\n",
    "plt.xlabel('Epoch')\n",
    "plt.ylabel('Training Accuracy')\n",
    "plt.title('Training Accuracy over Epoch')\n",
    "plt.show()"
   ]
  },
  {
   "cell_type": "markdown",
   "metadata": {},
   "source": [
    "6. Provide the accuracy on the training and validation set, for the epoch on which you obtain your highest accuracy on the validation set."
   ]
  },
  {
   "cell_type": "code",
   "execution_count": 10,
   "metadata": {},
   "outputs": [
    {
     "name": "stdout",
     "output_type": "stream",
     "text": [
      "Validation accuracy on epoch 3 = 0.978\n",
      "Training accuracy on epoch 3 = 0.97\n"
     ]
    }
   ],
   "source": [
    "epoch = np.argmax(val_accuracy_values)\n",
    "print(\"Validation accuracy on epoch {} = {}\".format(epoch+1, val_accuracy_values[epoch]))\n",
    "print(\"Training accuracy on epoch {} = {}\".format(epoch+1, train_accuracy_values[epoch]))"
   ]
  }
 ],
 "metadata": {
  "kernelspec": {
   "display_name": "Python 3",
   "language": "python",
   "name": "python3"
  },
  "language_info": {
   "codemirror_mode": {
    "name": "ipython",
    "version": 3
   },
   "file_extension": ".py",
   "mimetype": "text/x-python",
   "name": "python",
   "nbconvert_exporter": "python",
   "pygments_lexer": "ipython3",
   "version": "3.8.0"
  }
 },
 "nbformat": 4,
 "nbformat_minor": 4
}
