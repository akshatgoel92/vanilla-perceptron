{
 "cells": [
  {
   "cell_type": "markdown",
   "metadata": {},
   "source": [
    "# Task 3.1 : A Memory Efficient Voted Perceptron"
   ]
  },
  {
   "cell_type": "markdown",
   "metadata": {},
   "source": [
    "Freund & Schapire (1999) introduced the voted-perceptron algorithm, which scales\n",
    "the contribution to its weight vectors by a factor depending on how many correct classifications it\n",
    "has taken part in during training. They also demonstrated that despite its simplicity, the algorithm\n",
    "can be competitive with significantly more involved algorithms such as the support vector machine.\n",
    "However, a major drawback is that it has a memory complexity of O(k), where k is the number of\n",
    "times a sample is misclassified during training."
   ]
  },
  {
   "cell_type": "markdown",
   "metadata": {},
   "source": [
    "**Data:** $ \\mathcal{D} := \\{ (\\mathbf{x_1}, y_1),...,(\\mathbf{x_n}, y_n) \\} $<br>\n",
    "**Result:** $\\upsilon := \\{(\\mathbf{w_1}, c_1 ), . . . , (\\mathbf{w_k}, c_k)\\}$<br>\n",
    "$\\mathbf{w_1} := 0^d;$<br>\n",
    "$c_1 := 1;$<br>\n",
    "$k := 1;$<br>\n",
    "**while** *not converged* **do**<br>\n",
    "    $\\hspace{0.5cm}$ **for** $i := 1,..,n$ **do**<br>\n",
    "    $ \\hspace{1.0cm} \\hat{y} = \n",
    "        \\begin{cases}\n",
    "        1 & \\mathbf{w_k} \\cdot \\mathbf{x_i} \\geq 0  \\\\\n",
    "        0 & \\text{otherwise}\n",
    "        \\end{cases}$<br>\n",
    "        $\\hspace{1.0cm}$ **if** $\\hat{y} = y$ **then**<br>\n",
    "            $\\hspace{1.5cm} c_k := c_k + 1;$<br>\n",
    "        $\\hspace{1.0cm}$**else**<br>\n",
    "            $\\hspace{1.5cm}\\mathbf{w_{k+1}} := \\mathbf{w_k} + (y - \\hat{y})\\mathbf{x_i};$<br>\n",
    "            $\\hspace{1.5cm}c_{k+1} := 1;$<br>\n",
    "            $\\hspace{1.5cm}k := k + 1;$<br>\n",
    "        $\\hspace{1.0cm}$**end**<br>\n",
    "    $\\hspace{0.5cm}$**end**<br>\n",
    "**end**\n",
    "\n",
    "**Algorithm 1:** The voted-perceptron training algorithm with bias terms omitted."
   ]
  },
  {
   "cell_type": "markdown",
   "metadata": {},
   "source": [
    "Once trained, the algorithm performs predictions as follows:\n",
    "\n",
    ">$$ f(\\mathbf{x}) = \n",
    "\\begin{cases}\n",
    "1 &  [\\sum_{i:=1}^k c_i(\\mathbf{w_i} . \\mathbf{x})] \\geq 0 \\\\\n",
    "0 & \\text{otherwise}\n",
    "\\end{cases}$$"
   ]
  },
  {
   "cell_type": "code",
   "execution_count": null,
   "metadata": {},
   "outputs": [],
   "source": [
    "#Extract dataset\n",
    "!bash setup/download.sh"
   ]
  },
  {
   "cell_type": "markdown",
   "metadata": {},
   "source": [
    "## Importing Libraries"
   ]
  },
  {
   "cell_type": "code",
   "execution_count": 1,
   "metadata": {},
   "outputs": [],
   "source": [
    "#Importing libraries\n",
    "import numpy as np\n",
    "from matplotlib import pyplot as plt\n",
    "import helpers"
   ]
  },
  {
   "cell_type": "markdown",
   "metadata": {},
   "source": [
    "## Tasks: "
   ]
  },
  {
   "cell_type": "markdown",
   "metadata": {},
   "source": [
    "1. Derive a variant of the voted perceptron with memory complexity O(1) – informally, that the memory usage remains constant regardless of the number of updates."
   ]
  },
  {
   "cell_type": "markdown",
   "metadata": {},
   "source": [
    "Our proposed variant of the voted perceptron algorithm is as follows:\n",
    "\n",
    "**Data:** $ \\mathcal{D} := \\{(\\mathbf{x_1}, y_1),...,(\\mathbf{x_n}, y_n)\\} $<br>\n",
    "**Result:** $\\upsilon := 0 $<br>\n",
    "$\\mathbf{w} := 0^d;$<br>\n",
    "$c := 1;$<br>\n",
    "**while** *not converged* **do**<br>\n",
    "    $\\hspace{0.5cm}$ **for** $i := 1,..,n$ **do**<br>\n",
    "    $ \\hspace{1.0cm} \\hat{y_i} = \n",
    "        \\begin{cases}\n",
    "        1 & \\mathbf{w} \\cdot x_i \\geq 0  \\\\\n",
    "        0 & \\text{otherwise}\n",
    "        \\end{cases}$<br>\n",
    "        $\\hspace{1.0cm}$ **if** $\\hat{y_i} = y_i$ **then**<br>\n",
    "            $\\hspace{1.5cm} c := c + 1;$<br>\n",
    "        $\\hspace{1.0cm}$**else**<br>\n",
    "            $\\hspace{1.5cm}\\upsilon = \\upsilon + c\\mathbf{w}$<br>\n",
    "            $\\hspace{1.5cm}\\mathbf{w} := \\mathbf{w} + (y_i - \\hat{y_i})\\mathbf{x_i};$<br>\n",
    "            $\\hspace{1.5cm}c := 1;$<br>\n",
    "        $\\hspace{1.0cm}$**end**<br>\n",
    "    $\\hspace{0.5cm}$**end**<br>\n",
    "**end**"
   ]
  },
  {
   "cell_type": "markdown",
   "metadata": {},
   "source": [
    "Our prediction function can now be represented as follows:\n",
    "\n",
    ">$$ f(x) = \n",
    "\\begin{cases}\n",
    "1 & \\upsilon \\cdot \\mathbf{x} \\geq 0 \\\\\n",
    "0 & \\text{otherwise}\n",
    "\\end{cases}$$"
   ]
  },
  {
   "cell_type": "markdown",
   "metadata": {},
   "source": [
    "2. Prove that your efficient variant is functionally equivalent to the voted perceptron."
   ]
  },
  {
   "cell_type": "markdown",
   "metadata": {},
   "source": []
  },
  {
   "cell_type": "markdown",
   "metadata": {},
   "source": [
    "3. Implement your efficient variant in your Colaboratory notebook."
   ]
  },
  {
   "cell_type": "code",
   "execution_count": 2,
   "metadata": {},
   "outputs": [],
   "source": [
    "#Helper functions\n",
    "def predict(images, v):\n",
    "    \"\"\"\n",
    "    Predicts classes on a set of images.\n",
    "    \n",
    "    Args\n",
    "    ----\n",
    "    images : Flattened image data. Should be NumPy array of shape (# images, # pixels)\n",
    "    v : Trained weights. Should be NumPy array of shape (# pixels, )\n",
    "    \n",
    "    Returns\n",
    "    -------\n",
    "    pred : Class predictions. Should be NumPy array of shape (#images, )\n",
    "    \"\"\"\n",
    "    \n",
    "    pred = np.where(images @ v >= 0, 1.0, 0.0)\n",
    "    return pred\n",
    "\n",
    "def accuracy(images, labels, v):\n",
    "    \"\"\"\n",
    "    Computes accuracy of trained model.\n",
    "    \n",
    "    Args\n",
    "    ----\n",
    "    images : Flattened image data. Should be NumPy array of shape (# images, # pixels)\n",
    "    labels : Labels corresponding to image data. Should be NumPy array of shape (# images, )\n",
    "    v : Trained weights. Should be NumPy array of shape (# pixels, )\n",
    "    \n",
    "    Returns\n",
    "    -------\n",
    "    accuracy : Scalar value representing accuracy of predictions.\n",
    "    \"\"\"\n",
    "    \n",
    "    #Predict on dataset\n",
    "    predictions = predict(images, v)\n",
    "    \n",
    "    #Check how many are correct\n",
    "    correct = np.sum(np.where(predictions == labels, 1.0, 0.0))\n",
    "    accuracy = correct/len(images)\n",
    "    return accuracy\n",
    "\n",
    "def shuffle_data(X, y):\n",
    "    \"\"\"\n",
    "    Returns a shuffled copy of data from original data.\n",
    "    \n",
    "    Args\n",
    "    ----\n",
    "    X = NumPy array of images, shape (# images, #pixels)\n",
    "    Y = NumPy array of labels, shape (# images, )\n",
    "    \n",
    "    Returns\n",
    "    -------\n",
    "    Tuple of shuffled data (X, y)\n",
    "    \"\"\"\n",
    "    \n",
    "    nData = X.shape[0]\n",
    "    perm = np.random.permutation(nData)\n",
    "    X = X[perm, :]\n",
    "    y = y[perm]\n",
    "    return(X, y)"
   ]
  },
  {
   "cell_type": "code",
   "execution_count": 3,
   "metadata": {},
   "outputs": [],
   "source": [
    "def vp_modified(data, epochs=100, epsilon=0.005, tolerance=3, shuffle=True, seed=1):\n",
    "    \"\"\"\n",
    "    Implementation of modified voted perceptron algorithm with memory complexity O(1).\n",
    "    \n",
    "    Args\n",
    "    ----\n",
    "    data : tuple of training and validation data (x_train, y_train, x_val, y_val)\n",
    "    epochs : number of epochs to train over. *Note this is the max number of epochs the model will train for. Training could end earlier if convergence is achieved.\n",
    "    epsilon : Hyperparameter for convergence criteria. For convergence to occur, the difference in training accuracy between current and previous epoch must be < epsilon. \n",
    "    tolerance : number of epochs over which we allow for this small difference to persist.\n",
    "    shuffle : Set to true in order to shuffle the training examples.\n",
    "    seed : Ensures reproducible results.\n",
    "    \n",
    "    Returns\n",
    "    -------\n",
    "    v : NumPy array of shape (# pixels, )\n",
    "    train_accuracy_values : List of training accuracy values for each epoch of training.\n",
    "    val_accuracy_values : List of validation accuracy values over each epoch of training.\n",
    "    \"\"\"\n",
    "    \n",
    "    np.random.seed(seed)\n",
    "    \n",
    "    #Extract data\n",
    "    x_train, y_train, x_val, y_val = data\n",
    "    \n",
    "    n_data = x_train.shape[0]\n",
    "    n_dim = x_train.shape[1]\n",
    "    \n",
    "    #Initialize v, c, w\n",
    "    v = np.zeros((n_dim, ))\n",
    "    w = np.zeros((n_dim, ))\n",
    "    c = 1\n",
    "    \n",
    "    #This will store accuracy values after each epoch\n",
    "    train_accuracy_values = []\n",
    "    val_accuracy_values = []\n",
    "\n",
    "    #This will store the number of epochs over which accuracy difference was less than epsilon\n",
    "    k = 0\n",
    "    \n",
    "    for epoch in range(epochs):\n",
    "        \n",
    "        print(\"Epoch {}\".format(epoch+1))\n",
    "        \n",
    "        #Record accuracy pre-epoch\n",
    "        train_accuracy_old = accuracy(x_train, y_train, v)\n",
    "        #print(\">> Accuracy pre-epoch = {}\".format(train_accuracy_old))\n",
    "        \n",
    "        if shuffle:\n",
    "            x_train_shuffled, y_train_shuffled = shuffle_data(x_train, y_train)\n",
    "        else:\n",
    "            x_train_shuffled, y_train_shuffled = x_train, y_train\n",
    "        \n",
    "        #Iterate over training examples\n",
    "        for i in range(n_data):\n",
    "            y_hat = 1.0 if np.dot(w, x_train_shuffled[i]) >= 0.0 else 0.0\n",
    "            \n",
    "            #Update c if the true class and predicted class are equal\n",
    "            if y_hat == y_train_shuffled[i]:\n",
    "                c += 1\n",
    "                \n",
    "            #Perform v, w, c update if misclassified\n",
    "            else:\n",
    "                v += c*w\n",
    "                w += (y_train_shuffled[i] - y_hat)*x_train_shuffled[i]\n",
    "                c = 1\n",
    "        \n",
    "        #Record accuracy on training set and check difference relative to previous epoch\n",
    "        train_accuracy_new = accuracy(x_train, y_train, v)\n",
    "        difference = train_accuracy_new - train_accuracy_old\n",
    "        \n",
    "        train_accuracy_values.append(train_accuracy_new)\n",
    "        print(\">> Training accuracy = {}\".format(train_accuracy_new))\n",
    "        print(\">> Difference compared to previous epoch = {}\".format(difference))\n",
    "        \n",
    "        #Record accuracy on validation set\n",
    "        val_accuracy = accuracy(x_val, y_val, v)\n",
    "        val_accuracy_values.append(val_accuracy)        \n",
    "        print(\">> Validation accuracy = {}\".format(val_accuracy))\n",
    "        \n",
    "        \n",
    "        #EARLY STOPPING CRITERIA:\n",
    "        \n",
    "        #If the difference in accuracy is lesser than epsilon and this occurs over lesser than 3 epochs, then add 1 to k\n",
    "        if (np.abs(difference) <= epsilon and k < tolerance):\n",
    "            k += 1\n",
    "            \n",
    "        #If the difference is lesser than epsilon but k=3, then we have converged and can end training.\n",
    "        if (np.abs(difference) <= epsilon and k == tolerance):\n",
    "            print(\"Minimal change in training accuracy. Training completed early.\")\n",
    "            break\n",
    "            \n",
    "        #Suppose we saw a small difference over atleast 1 (but < 5) consecutive epochs but then suddenly a large jump in accuracy occurs, then we want to reset k=0 and restart the counting.\n",
    "        #Note that if we saw a large difference and k = 0, that's just the same as going into the while loop and running another epoch again.\n",
    "        if (np.abs(difference) > epsilon and k >= 1):\n",
    "            k = 0\n",
    "\n",
    "    return v, train_accuracy_values, val_accuracy_values"
   ]
  },
  {
   "cell_type": "markdown",
   "metadata": {},
   "source": [
    "4. Train your model to convergence on the training set."
   ]
  },
  {
   "cell_type": "code",
   "execution_count": 4,
   "metadata": {},
   "outputs": [],
   "source": [
    "#Load the training data\n",
    "train_img, train_labels = helpers.get_data(\"../data/\", data_type=\"train\")\n",
    "\n",
    "#Load the validation data - we will use it in the last question\n",
    "val_img, val_labels = helpers.get_data(\"../data/\", data_type=\"dev\")"
   ]
  },
  {
   "cell_type": "code",
   "execution_count": 5,
   "metadata": {},
   "outputs": [
    {
     "name": "stdout",
     "output_type": "stream",
     "text": [
      "Number of training images : 12000\n",
      "Labels : [0 1]\n"
     ]
    },
    {
     "data": {
      "image/png": "[encoded data removed]",
      "text/plain": [
       "<Figure size 864x432 with 5 Axes>"
      ]
     },
     "metadata": {
      "needs_background": "light"
     },
     "output_type": "display_data"
    }
   ],
   "source": [
    "n = train_img.shape[-1]\n",
    "classes = ['Not Bag', 'Bag']\n",
    "\n",
    "print(\"Number of training images : {}\".format(n))\n",
    "print(\"Labels : {}\".format(np.unique(train_labels)))\n",
    "\n",
    "plt.figure(figsize=(12,6))\n",
    "#Visualizing a few images and corresponding labels\n",
    "for i in range(5):\n",
    "    plt.subplot(1, 5, i+1)\n",
    "    plt.imshow(train_img[:, :, i])\n",
    "    plt.title(\"Class = {}\".format(classes[train_labels[i]]))"
   ]
  },
  {
   "cell_type": "code",
   "execution_count": 6,
   "metadata": {},
   "outputs": [
    {
     "name": "stdout",
     "output_type": "stream",
     "text": [
      "Image Shape after flattening: (12000, 784)\n",
      "Labels shape : (12000,)\n"
     ]
    }
   ],
   "source": [
    "#Flatten training images\n",
    "train_img_flat = helpers.flatten_imgs(train_img)\n",
    "print(\"Image Shape after flattening: {}\".format(train_img_flat.shape))\n",
    "print(\"Labels shape : {}\".format(train_labels.shape))\n",
    "\n",
    "#Flatten validation images\n",
    "val_img_flat = helpers.flatten_imgs(val_img)"
   ]
  },
  {
   "cell_type": "code",
   "execution_count": 7,
   "metadata": {},
   "outputs": [
    {
     "name": "stdout",
     "output_type": "stream",
     "text": [
      "Epoch 1\n",
      ">> Training accuracy = 0.96475\n",
      ">> Difference compared to previous epoch = 0.46475\n",
      ">> Validation accuracy = 0.968\n",
      "Epoch 2\n",
      ">> Training accuracy = 0.9683333333333334\n",
      ">> Difference compared to previous epoch = 0.0035833333333333828\n",
      ">> Validation accuracy = 0.971\n",
      "Epoch 3\n",
      ">> Training accuracy = 0.9693333333333334\n",
      ">> Difference compared to previous epoch = 0.0010000000000000009\n",
      ">> Validation accuracy = 0.972\n",
      "Epoch 4\n",
      ">> Training accuracy = 0.9703333333333334\n",
      ">> Difference compared to previous epoch = 0.0010000000000000009\n",
      ">> Validation accuracy = 0.974\n",
      "Epoch 5\n",
      ">> Training accuracy = 0.9708333333333333\n",
      ">> Difference compared to previous epoch = 0.0004999999999999449\n",
      ">> Validation accuracy = 0.974\n",
      "Epoch 6\n",
      ">> Training accuracy = 0.9715\n",
      ">> Difference compared to previous epoch = 0.0006666666666667043\n",
      ">> Validation accuracy = 0.975\n",
      "Minimal change in training accuracy. Training completed early.\n"
     ]
    }
   ],
   "source": [
    "#Train model\n",
    "data = (train_img_flat, train_labels, val_img_flat, val_labels)\n",
    "v, train_accuracy_values, val_accuracy_values = vp_modified(data, epochs=500, epsilon=0.005, tolerance=5, shuffle=True)"
   ]
  },
  {
   "cell_type": "markdown",
   "metadata": {},
   "source": [
    "**Expected Output (epochs=500, epsilon = 0.005, tolerance=5, shuffle=True)**"
   ]
  },
  {
   "cell_type": "markdown",
   "metadata": {},
   "source": [
    "```Epoch 1\n",
    ">> Training accuracy = 0.96475\n",
    ">> Difference compared to previous epoch = 0.46475\n",
    ">> Validation accuracy = 0.968\n",
    "Epoch 2\n",
    ">> Training accuracy = 0.9683333333333334\n",
    ">> Difference compared to previous epoch = 0.0035833333333333828\n",
    ">> Validation accuracy = 0.971\n",
    "Epoch 3\n",
    ">> Training accuracy = 0.9693333333333334\n",
    ">> Difference compared to previous epoch = 0.0010000000000000009\n",
    ">> Validation accuracy = 0.972\n",
    "Epoch 4\n",
    ">> Training accuracy = 0.9703333333333334\n",
    ">> Difference compared to previous epoch = 0.0010000000000000009\n",
    ">> Validation accuracy = 0.974\n",
    "Epoch 5\n",
    ">> Training accuracy = 0.9708333333333333\n",
    ">> Difference compared to previous epoch = 0.0004999999999999449\n",
    ">> Validation accuracy = 0.974\n",
    "Epoch 6\n",
    ">> Training accuracy = 0.9715\n",
    ">> Difference compared to previous epoch = 0.0006666666666667043\n",
    ">> Validation accuracy = 0.975\n",
    "Minimal change in training accuracy. Training completed early.\n",
    "```"
   ]
  },
  {
   "cell_type": "markdown",
   "metadata": {},
   "source": [
    "5. Provide a plot of the accuracy on the training set for each epoch."
   ]
  },
  {
   "cell_type": "code",
   "execution_count": 8,
   "metadata": {},
   "outputs": [
    {
     "data": {
      "image/png": "[encoded data removed]",
      "text/plain": [
       "<Figure size 432x288 with 1 Axes>"
      ]
     },
     "metadata": {
      "needs_background": "light"
     },
     "output_type": "display_data"
    }
   ],
   "source": [
    "epochs = np.arange(1, len(train_accuracy_values)+1)\n",
    "\n",
    "plt.figure()\n",
    "plt.plot(epochs, train_accuracy_values, linestyle='--')\n",
    "#plt.plot(epochs, val_accuracy_values, linestyle='--')\n",
    "plt.xlabel('Epoch')\n",
    "plt.ylabel('Training Accuracy')\n",
    "plt.title('Training Accuracy over Epoch')\n",
    "plt.savefig('vp_training_accuracy.png')\n",
    "plt.show()"
   ]
  },
  {
   "cell_type": "markdown",
   "metadata": {},
   "source": [
    "6. Provide the accuracy on the training and validation set, for the epoch on which you obtain your highest accuracy on the validation set."
   ]
  },
  {
   "cell_type": "code",
   "execution_count": 9,
   "metadata": {},
   "outputs": [
    {
     "name": "stdout",
     "output_type": "stream",
     "text": [
      "Validation accuracy on epoch 6 = 0.975\n",
      "Training accuracy on epoch 6 = 0.9715\n"
     ]
    }
   ],
   "source": [
    "epoch = np.argmax(val_accuracy_values)\n",
    "print(\"Validation accuracy on epoch {} = {}\".format(epoch+1, val_accuracy_values[epoch]))\n",
    "print(\"Training accuracy on epoch {} = {}\".format(epoch+1, train_accuracy_values[epoch]))"
   ]
  },
  {
   "cell_type": "code",
   "execution_count": null,
   "metadata": {},
   "outputs": [],
   "source": []
  }
 ],
 "metadata": {
  "kernelspec": {
   "display_name": "Python 3",
   "language": "python",
   "name": "python3"
  },
  "language_info": {
   "codemirror_mode": {
    "name": "ipython",
    "version": 3
   },
   "file_extension": ".py",
   "mimetype": "text/x-python",
   "name": "python",
   "nbconvert_exporter": "python",
   "pygments_lexer": "ipython3",
   "version": "3.8.5"
  }
 },
 "nbformat": 4,
 "nbformat_minor": 4
}
